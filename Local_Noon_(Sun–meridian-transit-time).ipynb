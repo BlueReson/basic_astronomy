{
 "cells": [
  {
   "cell_type": "markdown",
   "id": "af2ec2c7-7007-4701-af5c-4bdd7f1b7197",
   "metadata": {},
   "source": [
    "## Sun transit time"
   ]
  },
  {
   "cell_type": "markdown",
   "id": "75aeeb6e-0fa1-4754-8379-cc41b89b74c6",
   "metadata": {},
   "source": [
    "From Wikipedia, the free encyclopedia (https://en.wikipedia.org/wiki/Sun_transit_time):\n",
    "\n",
    "\"The sun transit time, also referred to as Sun–meridian transit time, is the daily moment when the Sun culminates on the observer's meridian, reaching its highest position in the sky. This solar time is most often used as local noon and therefore will vary with longitude. For example, on April 29, the sun transit time in Boston, Massachusetts is 12:42 p.m., whereas that for New York, New York is 12:53 p.m. This is due to longitudinal distance between the two cities. Sun transit corresponds to solar noon\""
   ]
  },
  {
   "cell_type": "markdown",
   "id": "6aa83433-38d3-4bbf-a0de-af51d3602624",
   "metadata": {
    "tags": []
   },
   "source": [
    "### Get current location from IP adress:¶"
   ]
  },
  {
   "cell_type": "code",
   "execution_count": 1,
   "id": "58840ee5-ee27-4178-8c41-0d4c1ffd7c9e",
   "metadata": {},
   "outputs": [],
   "source": [
    "import requests\n",
    "import json\n",
    "import socket\n",
    "s = socket.socket(socket.AF_INET, socket.SOCK_DGRAM)\n",
    "s.connect((\"8.8.8.8\", 80))\n",
    "\n",
    "full_ip_str = str(s.getsockname()[0])\n",
    "partial_ip = full_ip_str[:-4]\n",
    "\n",
    "# URL to send the request to\n",
    "request_url = 'https://geolocation-db.com/jsonp/' + partial_ip\n",
    "response = requests.get(request_url)\n",
    "result = response.content.decode()\n",
    "\n",
    "# Clean the returned string so it just contains the dictionary data for the IP address\n",
    "result = result.split(\"(\")[1].strip(\")\")\n",
    "# Convert this data into a dictionary\n",
    "result  = json.loads(result)\n",
    "my_ip_location = result['latitude'], result['longitude']\n",
    "#print(result)\n",
    "#print('------------------')\n",
    "#print(my_ip_location)\n",
    "#\n",
    "## from tuple to float via string\n",
    "#latstr = str(result['latitude'])\n",
    "#lat = float(latstr)                                                 \n",
    "#lonstr = str(result['longitude'])\n",
    "#lon = float(lonstr)#"
   ]
  },
  {
   "cell_type": "markdown",
   "id": "ea83b0fe-0583-49f9-b208-21eafce67b37",
   "metadata": {},
   "source": [
    "## Local noon for current location:"
   ]
  },
  {
   "cell_type": "code",
   "execution_count": 2,
   "id": "a2572022-904a-4252-ace8-b1c6c7cdb443",
   "metadata": {},
   "outputs": [
    {
     "name": "stdout",
     "output_type": "stream",
     "text": [
      "Solar noon: 2022-05-17 13:36:48\n"
     ]
    }
   ],
   "source": [
    "import datetime as dt\n",
    "from pytz import timezone\n",
    "from skyfield import almanac\n",
    "from skyfield.api import N, E, wgs84, load\n",
    "\n",
    "zone = timezone('Europe/Amsterdam')\n",
    "now = zone.localize(dt.datetime.now())\n",
    "midnight = now.replace(hour=0, minute=0, second=0, microsecond=0)\n",
    "lat, lon = float(result['latitude']), float(result['longitude'])\n",
    "next_midnight = midnight + dt.timedelta(days=1)\n",
    "\n",
    "ts = load.timescale()\n",
    "t0 = ts.from_datetime(midnight)\n",
    "t1 = ts.from_datetime(next_midnight)\n",
    "eph = load('de421.bsp')\n",
    "curr_loc = wgs84.latlon(lat * N, lon * E)\n",
    "\n",
    "f = almanac.meridian_transits(eph, eph['Sun'], curr_loc)\n",
    "times, events = almanac.find_discrete(t0, t1, f)\n",
    "\n",
    "# Select transits instead of antitransits.\n",
    "times = times[events == 1]\n",
    "\n",
    "t = times[0]\n",
    "tstr = str(t.astimezone(zone))[:19]\n",
    "print('Solar noon:', tstr)"
   ]
  }
 ],
 "metadata": {
  "kernelspec": {
   "display_name": "Python 3",
   "language": "python",
   "name": "python3"
  },
  "language_info": {
   "codemirror_mode": {
    "name": "ipython",
    "version": 3
   },
   "file_extension": ".py",
   "mimetype": "text/x-python",
   "name": "python",
   "nbconvert_exporter": "python",
   "pygments_lexer": "ipython3",
   "version": "3.9.7"
  }
 },
 "nbformat": 4,
 "nbformat_minor": 5
}
