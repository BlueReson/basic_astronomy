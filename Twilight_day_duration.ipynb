{
 "cells": [
  {
   "cell_type": "markdown",
   "id": "1f367cdc-cbd1-4958-ba8d-cc4bfee4ccef",
   "metadata": {},
   "source": [
    "### Get current location from IP adress"
   ]
  },
  {
   "cell_type": "code",
   "execution_count": 1,
   "id": "760d2118-fbad-4970-a8e9-d97227a25a98",
   "metadata": {},
   "outputs": [],
   "source": [
    "import requests\n",
    "import json\n",
    "import socket\n",
    "s = socket.socket(socket.AF_INET, socket.SOCK_DGRAM)\n",
    "s.connect((\"8.8.8.8\", 80))\n",
    "\n",
    "full_ip_str = str(s.getsockname()[0])\n",
    "partial_ip = full_ip_str[:-4]\n",
    "\n",
    "# URL to send the request to\n",
    "request_url = 'https://geolocation-db.com/jsonp/' + partial_ip\n",
    "response = requests.get(request_url)\n",
    "result = response.content.decode()\n",
    "\n",
    "# Clean the returned string so it just contains the dictionary data for the IP address\n",
    "result = result.split(\"(\")[1].strip(\")\")\n",
    "# Convert this data into a dictionary\n",
    "result  = json.loads(result)\n",
    "my_ip_location = result['latitude'], result['longitude']\n",
    "#print(result)\n",
    "#print('------------------')\n",
    "#print(my_ip_location)\n",
    "#\n",
    "## from tuple to float via string\n",
    "#latstr = str(result['latitude'])\n",
    "#lat = float(latstr)                                                 \n",
    "#lonstr = str(result['longitude'])\n",
    "#lon = float(lonstr)#"
   ]
  },
  {
   "cell_type": "markdown",
   "id": "998a17e7-0584-40e9-b374-0585d7b0bd36",
   "metadata": {},
   "source": [
    "## Return: times of Twilight' and day duration:"
   ]
  },
  {
   "cell_type": "code",
   "execution_count": 2,
   "id": "07dfc060-9e1c-4bd6-b1db-d0ab94eb69c5",
   "metadata": {},
   "outputs": [
    {
     "name": "stdout",
     "output_type": "stream",
     "text": [
      "location: Obdam, North Holland, NL\n",
      "request time(lt): 2022-05-17 17:19:04.442657\n",
      "timezone: Europe/Amsterdam\n",
      "Latitude:   52.675\n",
      "Longitude: 004.904\n",
      "________________   ________________________\n",
      "2022-05-17 03:55   Nautical twilight starts\n",
      "2022-05-17 04:57   Civil twilight starts\n",
      "2022-05-17 05:40   Day starts\n",
      "2022-05-17 21:33   Day ends\n",
      "2022-05-17 22:17   Civil twilight ends\n",
      "2022-05-17 23:20   Nautical twilight ends\n"
     ]
    }
   ],
   "source": [
    "import datetime as dt\n",
    "from pytz import timezone\n",
    "from skyfield import almanac\n",
    "from skyfield.api import N, E, W, S, wgs84, load\n",
    "from skyfield.units import Angle\n",
    "\n",
    "# Figure out local midnight.\n",
    "tday = dt.datetime.now()\n",
    "zone = timezone('Europe/Amsterdam')\n",
    "now = zone.localize(dt.datetime.now())\n",
    "midnight = now.replace(hour=0, minute=0, second=0, microsecond=0)\n",
    "next_midnight = midnight + dt.timedelta(days=1)\n",
    "\n",
    "\n",
    "ts = load.timescale()\n",
    "t0 = ts.from_datetime(midnight)\n",
    "t1 = ts.from_datetime(next_midnight)\n",
    "eph = load('de421.bsp') # call to Ephemeris\n",
    "# Ephemeris: a table or datafile giving the calculated positions of a celestial object at regular intervals.\n",
    "\n",
    "iploc = wgs84.latlon(result['latitude']* N, result['longitude'] * E)\n",
    "f = almanac.dark_twilight_day(eph, iploc)\n",
    "times, events = almanac.find_discrete(t0, t1, f)\n",
    "\n",
    "print('location:',result['city']+\",\",result['state']+\",\", result['country_code'])\n",
    "print('request time(lt):',tday)\n",
    "print('timezone:',zone)\n",
    "lon_ip = '{:.3f}'.format(result[\"longitude\"])\n",
    "lat_ip = '{:.3f}'.format(result[\"latitude\"])\n",
    "\n",
    "print(\"Latitude:   \"+str(lat_ip).zfill(6))\n",
    "print(\"Longitude: \"+str(lon_ip).zfill(7))\n",
    "#print()\n",
    "print('________________   ________________________')\n",
    "previous_e = f(t0).item()\n",
    "for t, e in zip(times, events):\n",
    "    tstr = str(t.astimezone(zone))[:16]\n",
    "    if previous_e < e:\n",
    "        print(tstr, ' ', almanac.TWILIGHTS[e], 'starts')\n",
    "    else:\n",
    "        print(tstr, ' ', almanac.TWILIGHTS[previous_e], 'ends')\n",
    "    previous_e = e"
   ]
  }
 ],
 "metadata": {
  "kernelspec": {
   "display_name": "Python 3",
   "language": "python",
   "name": "python3"
  },
  "language_info": {
   "codemirror_mode": {
    "name": "ipython",
    "version": 3
   },
   "file_extension": ".py",
   "mimetype": "text/x-python",
   "name": "python",
   "nbconvert_exporter": "python",
   "pygments_lexer": "ipython3",
   "version": "3.9.7"
  }
 },
 "nbformat": 4,
 "nbformat_minor": 5
}
